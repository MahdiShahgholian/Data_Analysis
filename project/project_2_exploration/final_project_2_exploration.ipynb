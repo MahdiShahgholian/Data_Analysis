{
  "cells": [
    {
      "attachments": {},
      "cell_type": "markdown",
      "metadata": {
        "id": "dbd55073"
      },
      "source": [
        "<h1 align=center style=\"line-height:200%;font-family:vazir;color:#0099cc\">\n",
        "<font face=\"vazir\" color=\"#0099cc\">\n",
        "اکتشاف\n",
        "</font>\n",
        "</h1>\n",
        "\n",
        "\n",
        "<p dir=rtl style=\"direction: rtl;text-align: justify;line-height:200%;font-family:vazir;font-size:medium\">\n",
        "<font face=\"vazir\" size=3>\n",
        "در این گام از پروژه به تحلیل بیشتر بر روی سفارش‌ها پرداخته و با پاسخ به چند پرسش و رسم چند نمودار، دید بهتری از اطلاعات مالی شرکت به دست خواهید آورد.\n",
        "</font>\n",
        "</p>"
      ]
    },
    {
      "attachments": {},
      "cell_type": "markdown",
      "metadata": {},
      "source": [
        "   \n",
        "<h2 align=right style=\"line-height:200%;font-family:vazir;color:#0099cc\">\n",
        "<font face=\"vazir\" color=\"#0099cc\">\n",
        "کتابخانه‌ها\n",
        "</font>\n",
        "</h2>\n",
        "\n",
        "<p dir=rtl style=\"direction: rtl;text-align: justify;line-height:200%;font-family:vazir;font-size:medium\">\n",
        "<font face=\"vazir\" size=3>\n",
        "       ابتدا کتابخانه‌های مورد نیاز خود را فرا بخوانید.\n",
        "</font>\n",
        "</p>"
      ]
    },
    {
      "cell_type": "code",
      "execution_count": null,
      "metadata": {
        "id": "4a1c31c4"
      },
      "outputs": [],
      "source": [
        "# import libraries"
      ]
    },
    {
      "attachments": {},
      "cell_type": "markdown",
      "metadata": {
        "id": "76c16791"
      },
      "source": [
        "\n",
        "<h2 align=right style=\"line-height:200%;font-family:vazir;color:#0099cc\">\n",
        "<font face=\"vazir\" color=\"#0099cc\">\n",
        "    خواندن مجموعه‌داده\n",
        "</font>\n",
        "</h2>\n",
        "\n",
        "<p dir=rtl style=\"direction: rtl;text-align: justify;line-height:200%;font-family:vazir;font-size:medium\">\n",
        "<font face=\"vazir\" size=3>\n",
        "    حال داده‌های پیش‌پردازش‌شده را که در گام قبل پروژه در فایل <code>preprocessed_sales.csv</code> ذخیره کردید به شکل یک دیتافریم بخوانید.\n",
        "</font>\n",
        "</p>"
      ]
    },
    {
      "cell_type": "code",
      "execution_count": null,
      "metadata": {
        "colab": {
          "base_uri": "https://localhost:8080/",
          "height": 434
        },
        "id": "b0ad0cab",
        "outputId": "ed789465-43da-484a-bc18-fcd536a6f65d"
      },
      "outputs": [],
      "source": [
        "df = None # To-Do\n",
        "df.head()"
      ]
    },
    {
      "attachments": {},
      "cell_type": "markdown",
      "metadata": {
        "id": "8d09f90e"
      },
      "source": [
        "<h2 align=right style=\"line-height:200%;font-family:vazir;color:#0099cc\">\n",
        "<font face=\"vazir\" color=\"#0099cc\">\n",
        "    قسمت اول\n",
        "</font>\n",
        "</h2>\n",
        "\n",
        "<p dir=rtl style=\"direction: rtl;text-align: right;line-height:200%;font-family:vazir;font-size:medium\">\n",
        "<font face=\"vazir\" size=3>\n",
        "    تعداد فاکتورهای باقی‌مانده چند عدد است؟ توجه داشته باشید که منظور تعداد فاکتورهای یکتاست. پاسخ خود را در متغیر <code>number_of_orders</code> ذخیره کنید.\n",
        "        \n",
        "</font>\n",
        "</p>"
      ]
    },
    {
      "cell_type": "code",
      "execution_count": null,
      "metadata": {
        "id": "d54f4178"
      },
      "outputs": [],
      "source": [
        "number_of_orders = None # To-Do"
      ]
    },
    {
      "attachments": {},
      "cell_type": "markdown",
      "metadata": {
        "id": "386781c4"
      },
      "source": [
        "\n",
        "<h2 align=right style=\"line-height:200%;font-family:vazir;color:#0099cc\">\n",
        "<font face=\"vazir\" color=\"#0099cc\">\n",
        "    قسمت دوم\n",
        "</font>\n",
        "</h2>\n",
        "\n",
        "<p dir=rtl style=\"direction: rtl;text-align: right;line-height:200%;font-family:vazir;font-size:medium\">\n",
        "<font face=\"vazir\" size=3>\n",
        "این داده‌ها در چه بازه‌ی زمانی‌ای جمع‌آوری شده‌اند؟ پاسخ خود را به‌صورت یک tuple در متغیر <code>window_period</code> ذخیره کنید که به‌ترتیب شامل کوچک‌ترین زمان و بزرگترین زمان باشد.\n",
        "    <br>\n",
        "    به عنوان مثال، اگر فرضاً کوچک‌ترین زمان، <code dir=ltr>2008-04-05 18:20:00</code> و بزرگ‌ترین زمان، <code dir=ltr>2010-11-19 20:40:00</code> باشد، آنگاه این متغیر به‌صورت زیر مقدار‌دهی می‌شود:\n",
        "</font>\n",
        "</p>\n",
        "\n",
        "```python\n",
        "window_period = ('2008-04-05 18:20:00', '2010-11-19 20:40:00')\n",
        "```"
      ]
    },
    {
      "cell_type": "code",
      "execution_count": null,
      "metadata": {
        "id": "95f58e32"
      },
      "outputs": [],
      "source": [
        "window_period = None # To-Do"
      ]
    },
    {
      "attachments": {},
      "cell_type": "markdown",
      "metadata": {},
      "source": [
        "<h2 align=right style=\"line-height:200%;font-family:vazir;color:#0099cc\">\n",
        "<font face=\"vazir\" color=\"#0099cc\">\n",
        "    قسمت سوم\n",
        "</font>\n",
        "</h2>\n",
        "\n",
        "<p dir=rtl style=\"direction: rtl;text-align: justify;line-height:200%;font-family:vazir;font-size:medium\">\n",
        "<font face=\"vazir\" size=3>\n",
        "با استفاده از نمودار میله‌ای، نشان دهید که در هر روز هفته (دوشنبه، سه‌شنبه و...) چند فاکتور یکتا صادر شده است.\n",
        "<br>\n",
        "برای انجام این کار، ابتدا باید روزی از هفته که معامله در آن انجام شده است را پیدا کنید، سپس محاسبه کنید که در هر روز هفته، چند فاکتور یکتا صادر شده است.\n",
        "<br>\n",
        "نمودار شما باید مشابه با تصویر زیر باشد:\n",
        "</font>\n",
        "</p>\n",
        "\n",
        "<p style=\"text-align:center; background: white\"><img src=\"fig1.png\"></p>\n",
        "\n",
        "<h3 align=right style=\"line-height:200%;font-family:vazir;color:#0099cc\">\n",
        "<font face=\"vazir\" color=\"#0099cc\">\n",
        "<b>ویژگی‌های نمودار</b>\n",
        "\n",
        "</font>\n",
        "</h3>\n",
        "\n",
        "<center>\n",
        "<div dir=rtl style=\"direction: rtl;line-height:200%;font-family:vazir;font-size:medium\">\n",
        "<font face=\"vazir\" size=3>\n",
        "\n",
        "| <b style=\"color:#0099cc\">ویژگی</b> | <b style=\"color:#0099cc\">مقدار</b> |\n",
        "| :---: | :---: |\n",
        "| اندازه‌ی شکل | ۱۵ در ۶ اینچ |\n",
        "| رنگ میله‌ها | <code>lime</code> |\n",
        "| رنگ عنوان محور افقی و عمودی | <code>lightseagreen</code> | \n",
        "| رنگ عنوان صفحه‌محور | <code>green</code> |\n",
        "| اندازه‌ی فونت عنوان صفحه‌محور، عنوان محورهای افقی و عمودی و اسم روزهای هفته | ۱۵ |\n",
        "| زاویه‌ی اسم روزهای هفته | ۰ | \n",
        "\n",
        "</font>\n",
        "</div>\n",
        "</center>"
      ]
    },
    {
      "cell_type": "code",
      "execution_count": null,
      "metadata": {
        "id": "54fadd06"
      },
      "outputs": [],
      "source": [
        "fig1, ax1 = None # To-Do"
      ]
    },
    {
      "attachments": {},
      "cell_type": "markdown",
      "metadata": {
        "id": "89f38873"
      },
      "source": [
        "<h2 align=right style=\"line-height:200%;font-family:vazir;color:#0099cc\">\n",
        "<font face=\"vazir\" color=\"#0099cc\">\n",
        "    قسمت چهارم\n",
        "</font>\n",
        "</h2>\n",
        "\n",
        "<p dir=rtl style=\"direction: rtl;text-align: justify;line-height:200%;font-family:vazir;font-size:medium\">\n",
        "<font face=\"vazir\" size=3>\n",
        "اکنون یک نمودار میله‌ای از مجموع فروش هر ماه از هر سال رسم کنید. توجه داشته باشید مجموع فروش هر ردیف از دیتافریم به کمک ضرب قیمت واحد آن (ستون <code>UnitPrice</code>) در تعداد سفارش آن محصول (ستون <code>Quantity</code>) به دست می‌آید.\n",
        "<br>\n",
        "نمودار شما باید مشابه با تصویر زیر باشد:\n",
        "</font>\n",
        "</p>\n",
        "\n",
        "<p style=\"text-align:center; background: white\"><img src=\"fig2.png\"></p>\n",
        "\n",
        "\n",
        "<h2 align=right style=\"line-height:200%;font-family:vazir;color:#0099cc\">\n",
        "<font face=\"vazir\" color=\"#0099cc\">\n",
        "ویژگی‌های نمودار\n",
        "</font>\n",
        "</h2>\n",
        "\n",
        "\n",
        "<center>\n",
        "<div dir=rtl style=\"direction: rtl;line-height:200%;font-family:vazir;font-size:medium\">\n",
        "<font face=\"vazir\" size=3>\n",
        "\n",
        "| <b style=\"color:#0099cc\">ویژگی</b> | <b style=\"color:#0099cc\">مقدار</b> |\n",
        "| :---: | :---: |\n",
        "| اندازه‌ی شکل | ۱۵ در ۶ اینچ |\n",
        "| رنگ میله‌ها | <code>darkkhaki</code> |\n",
        "| رنگ عنوان محور افقی و عمودی | <code>orange</code> | \n",
        "| رنگ عنوان صفحه‌محور | <code>cadetblue</code> |\n",
        "| اندازه‌ی فونت عنوان صفحه‌محور، عنوان محورهای افقی و عمودی | ۱۵ |\n",
        "| اندازه‌ی فونت اسم ماه‌ها | ۱۳ | \n",
        "| زاویه‌ی اسم ماه‌ها | ۴۵۰ | \n",
        "\n",
        "</font>\n",
        "</div>\n",
        "</center>"
      ]
    },
    {
      "cell_type": "code",
      "execution_count": null,
      "metadata": {},
      "outputs": [],
      "source": [
        "fig2, ax2 = None # To-Do"
      ]
    },
    {
      "attachments": {},
      "cell_type": "markdown",
      "metadata": {
        "id": "121d3f7d"
      },
      "source": [
        "<h2 align=right style=\"line-height:200%;font-family:vazir;color:#0099cc\">\n",
        "<font face=\"vazir\" color=\"#0099cc\">\n",
        "<b>سلول جواب‌ساز</b>\n",
        "</font>\n",
        "</h2>\n",
        "\n",
        "\n",
        "<p dir=rtl style=\"direction: rtl; text-align: justify; line-height:200%; font-family:vazir; font-size:medium\">\n",
        "<font face=\"vazir\" size=3>\n",
        "    برای ساخته‌شدن فایل <code>result.zip</code> سلول زیر را اجرا کنید. توجه داشته باشید که پیش از اجرای سلول زیر تغییرات اعمال شده در نت‌بوک را ذخیره کرده باشید (<code>ctrl+s</code>) تا در صورت نیاز به پشتیبانی امکان بررسی کد شما وجود داشته باشد.\n",
        "</font>\n",
        "</p>"
      ]
    },
    {
      "cell_type": "code",
      "execution_count": null,
      "metadata": {
        "id": "tkcqzj4b6tv6"
      },
      "outputs": [],
      "source": [
        "import zipfile\n",
        "import joblib\n",
        "\n",
        "joblib.dump(number_of_orders,\"number_of_orders\")\n",
        "joblib.dump(window_period,\"window_period\")\n",
        "joblib.dump(fig1,\"fig1\")\n",
        "joblib.dump(fig2,\"fig2\")\n",
        "\n",
        "def compress(file_names):\n",
        "    print(\"File Paths:\")\n",
        "    print(file_names)\n",
        "    compression = zipfile.ZIP_DEFLATED\n",
        "    with zipfile.ZipFile(\"result.zip\", mode=\"w\") as zf:\n",
        "        for file_name in file_names:\n",
        "            zf.write('./' + file_name, file_name, compress_type=compression)\n",
        "\n",
        "file_names = [\"number_of_orders\", \"window_period\", \"fig1\", \"fig2\", \"final_project_2_exploration.ipynb\"]\n",
        "compress(file_names)"
      ]
    }
  ],
  "metadata": {
    "colab": {
      "name": "exploration_answers.ipynb",
      "provenance": []
    },
    "kernelspec": {
      "display_name": "quera",
      "language": "python",
      "name": "python3"
    },
    "language_info": {
      "codemirror_mode": {
        "name": "ipython",
        "version": 3
      },
      "file_extension": ".py",
      "mimetype": "text/x-python",
      "name": "python",
      "nbconvert_exporter": "python",
      "pygments_lexer": "ipython3",
      "version": "3.9.7"
    },
    "vscode": {
      "interpreter": {
        "hash": "6a29b8f2e1e8b11f80c3820468461bcdbea6564508a235f61a46eeb59d48b308"
      }
    }
  },
  "nbformat": 4,
  "nbformat_minor": 5
}
